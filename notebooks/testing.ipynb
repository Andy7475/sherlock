{
 "cells": [
  {
   "cell_type": "code",
   "execution_count": 1,
   "metadata": {},
   "outputs": [],
   "source": [
    "%load_ext autoreload"
   ]
  },
  {
   "cell_type": "code",
   "execution_count": 2,
   "metadata": {},
   "outputs": [],
   "source": [
    "%autoreload 2\n",
    "import sys\n",
    "from pathlib import Path\n",
    "\n",
    "parent = str(Path().absolute().parent)\n",
    "if parent not in sys.path:\n",
    "    sys.path.insert(0,parent)\n",
    "from sherlock.evidence_store import EvidenceStore\n",
    "from sherlock.models import Claim, Evidence, Argument\n",
    "from sherlock.agents import ClaimSupportAgent"
   ]
  },
  {
   "cell_type": "code",
   "execution_count": 3,
   "metadata": {},
   "outputs": [],
   "source": [
    "store = EvidenceStore(\"wally_evidence\")\n",
    "\n",
    "# Add our evidence\n",
    "evidence_ids = []\n",
    "evidence_ids.append(store.add_evidence(\"Librarian Jane saw someone matching Wally's description at 3pm\"))\n",
    "evidence_ids.append(store.add_evidence(\"Security camera shows someone in red and white stripes in the park\"))\n",
    "evidence_ids.append(store.add_evidence(\"Library card records don't show Wally checking out any books today\"))\n",
    "evidence_ids.append(store.add_evidence(\"Wally's phone GPS shows he was at the library coordinates\"))\n",
    "\n"
   ]
  },
  {
   "cell_type": "code",
   "execution_count": 10,
   "metadata": {},
   "outputs": [],
   "source": [
    "\n",
    "\n",
    "agent = ClaimSupportAgent(store)\n",
    "\n",
    "# Create a test claim\n",
    "wally_claim = Claim(text=\"Wally is in the library\")\n"
   ]
  },
  {
   "cell_type": "code",
   "execution_count": 11,
   "metadata": {},
   "outputs": [
    {
     "name": "stderr",
     "output_type": "stream",
     "text": [
      "16:42:18 | INFO | Querying evidence store with: wally library\n"
     ]
    }
   ],
   "source": [
    "dc = agent.query_evidence('wally library')"
   ]
  },
  {
   "cell_type": "code",
   "execution_count": 12,
   "metadata": {},
   "outputs": [
    {
     "data": {
      "text/plain": [
       "{'evidence': [{'id': 'ev_4',\n",
       "   'text': \"Wally's phone GPS shows he was at the library coordinates\"},\n",
       "  {'id': 'ev_1',\n",
       "   'text': \"Librarian Jane saw someone matching Wally's description at 3pm\"},\n",
       "  {'id': 'ev_3',\n",
       "   'text': \"Library card records don't show Wally checking out any books today\"}]}"
      ]
     },
     "execution_count": 12,
     "metadata": {},
     "output_type": "execute_result"
    }
   ],
   "source": [
    "dc.model_dump()"
   ]
  },
  {
   "cell_type": "code",
   "execution_count": 13,
   "metadata": {},
   "outputs": [
    {
     "name": "stderr",
     "output_type": "stream",
     "text": [
      "16:42:31 | INFO | Starting evaluation of claim: Wally is in the library\n",
      "16:42:31 | INFO | Starting iteration 1\n",
      "16:42:45 | INFO | Tool_use stop reason. Response.content: [TextBlock(citations=None, text='<thinking>\\nTo evaluate the claim \"Wally is in the library\", I will need to find supporting evidence using the available tools.\\n\\nThe most relevant tool is query_evidence, which allows searching for evidence using keywords. I can use keywords from the claim like \"Wally\" and \"library\" to search for relevant evidence.\\n\\nOnce I have 2-3 pieces of supporting evidence, I can use the create_argument tool to construct an argument. This tool requires the following parameters:\\n- text: The main text of the argument. I can summarize the key points from the evidence to form the argument text.\\n- supports: Whether the argument supports (True) or opposes (False) the claim. Since my goal is to find supporting evidence, this will be set to True. \\n- evidence_collection: The evidence supporting the argument. I can provide the evidence found using query_evidence.\\n- subclaims: Additional subclaims that support the main argument. This is optional, so I may not need to provide subclaims.\\n\\nSo in summary, my plan is:\\n1. Use query_evidence to search for evidence supporting the claim \"Wally is in the library\" \\n2. Evaluate the evidence to keep the most relevant 2-3 pieces\\n3. Use create_argument to construct a supporting argument based on the evidence\\n</thinking>', type='text'), ToolUseBlock(id='toolu_015xqqTcap8Tg4v3t8HJ1ArG', input={'query': 'Wally library'}, name='query_evidence', type='tool_use')]\n",
      "16:42:45 | INFO | Querying evidence store with: Wally library\n",
      "16:42:45 | INFO | result from tool query_evidence: evidence=[Evide, type is: <class 'sherlock.models.EvidenceCollection'>\n",
      "16:42:45 | INFO | [{'role': 'user', 'content': 'Evaluate this claim <claim>Wally is in the library</claim>. Use the tools to find supporting evidence and create an argument.'}, {'role': 'assistant', 'content': [TextBlock(citations=None, text='<thinking>\\nTo evaluate the claim \"Wally is in the library\", I will need to find supporting evidence using the available tools.\\n\\nThe most relevant tool is query_evidence, which allows searching for evidence using keywords. I can use keywords from the claim like \"Wally\" and \"library\" to search for relevant evidence.\\n\\nOnce I have 2-3 pieces of supporting evidence, I can use the create_argument tool to construct an argument. This tool requires the following parameters:\\n- text: The main text of the argument. I can summarize the key points from the evidence to form the argument text.\\n- supports: Whether the argument supports (True) or opposes (False) the claim. Since my goal is to find supporting evidence, this will be set to True. \\n- evidence_collection: The evidence supporting the argument. I can provide the evidence found using query_evidence.\\n- subclaims: Additional subclaims that support the main argument. This is optional, so I may not need to provide subclaims.\\n\\nSo in summary, my plan is:\\n1. Use query_evidence to search for evidence supporting the claim \"Wally is in the library\" \\n2. Evaluate the evidence to keep the most relevant 2-3 pieces\\n3. Use create_argument to construct a supporting argument based on the evidence\\n</thinking>', type='text'), ToolUseBlock(id='toolu_015xqqTcap8Tg4v3t8HJ1ArG', input={'query': 'Wally library'}, name='query_evidence', type='tool_use')]}, {'role': 'user', 'content': [{'type': 'tool_result', 'tool_use_id': 'toolu_015xqqTcap8Tg4v3t8HJ1ArG', 'content': '{\"evidence\":[{\"id\":\"ev_4\",\"text\":\"Wally\\'s phone GPS shows he was at the library coordinates\"},{\"id\":\"ev_1\",\"text\":\"Librarian Jane saw someone matching Wally\\'s description at 3pm\"},{\"id\":\"ev_3\",\"text\":\"Library card records don\\'t show Wally checking out any books today\"}]}'}]}]\n",
      "16:42:45 | INFO | Starting iteration 2\n",
      "16:43:01 | INFO | Tool_use stop reason. Response.content: [TextBlock(citations=None, text='<thinking>\\nThe evidence search found 3 potentially relevant pieces of evidence:\\n\\n1. \"Wally\\'s phone GPS shows he was at the library coordinates\" - This strongly supports that Wally was at the library based on his phone\\'s location data. I will include this in the argument.\\n\\n2. \"Librarian Jane saw someone matching Wally\\'s description at 3pm\" - This eyewitness account also supports Wally being at the library, although it\\'s not definitive proof since the librarian only saw someone matching his description. I will include this as well but note the slight uncertainty. \\n\\n3. \"Library card records don\\'t show Wally checking out any books today\" - This evidence is not directly relevant, as Wally could have been at the library without checking out books. I will exclude this piece of evidence.\\n\\nSo in summary, I have 2 pieces of evidence that support the claim to varying degrees. I will now construct an argument based on this evidence.\\n</thinking>', type='text'), ToolUseBlock(id='toolu_014sDr3SogpoX1vFnJWy2w9a', input={'text': \"The evidence indicates Wally was likely at the library. His phone's GPS data places him at the library coordinates, providing strong support for the claim. Additionally, librarian Jane reports seeing someone matching Wally's description at the library around 3pm, further corroborating his presence there, although this eyewitness account leaves some room for uncertainty.\", 'supports': True, 'evidence_collection': {'evidence': [{'id': 'ev_4', 'text': \"Wally's phone GPS shows he was at the library coordinates\"}, {'id': 'ev_1', 'text': \"Librarian Jane saw someone matching Wally's description at 3pm\"}]}}, name='create_argument', type='tool_use')]\n",
      "16:43:01 | INFO | Creating argument: The evidence indicates Wally was likely at the library. His phone's GPS data places him at the library coordinates, providing strong support for the claim. Additionally, librarian Jane reports seeing someone matching Wally's description at the library around 3pm, further corroborating his presence there, although this eyewitness account leaves some room for uncertainty.\n",
      "16:43:01 | INFO | With 1 pieces of evidence and 0 subclaims\n",
      "16:43:01 | INFO | result from tool create_argument: id='18327231-f4, type is: <class 'sherlock.models.Argument'>\n",
      "16:43:01 | INFO | create_argument called, evaluation complete: id='18327231-f4c7-42b8-bdac-ac60cfd32c01' text=\"The evidence indicates Wally was likely at the library. His phone's GPS data places him at the library coordinates, providing strong support for the claim. Additionally, librarian Jane reports seeing someone matching Wally's description at the library around 3pm, further corroborating his presence there, although this eyewitness account leaves some room for uncertainty.\" supports=True evidence_collection=EvidenceCollection(evidence=[Evidence(id='ev_4', text=\"Wally's phone GPS shows he was at the library coordinates\"), Evidence(id='ev_1', text=\"Librarian Jane saw someone matching Wally's description at 3pm\")]) subclaims=[]\n"
     ]
    }
   ],
   "source": [
    "\n",
    "# Evaluate it\n",
    "updated_claim = agent.evaluate_claim(wally_claim)"
   ]
  },
  {
   "cell_type": "code",
   "execution_count": 15,
   "metadata": {},
   "outputs": [
    {
     "data": {
      "text/plain": [
       "{'text': 'Wally is in the library',\n",
       " 'id': 'wally-is-in-the-library',\n",
       " 'arguments': [{'id': '18327231-f4c7-42b8-bdac-ac60cfd32c01',\n",
       "   'text': \"The evidence indicates Wally was likely at the library. His phone's GPS data places him at the library coordinates, providing strong support for the claim. Additionally, librarian Jane reports seeing someone matching Wally's description at the library around 3pm, further corroborating his presence there, although this eyewitness account leaves some room for uncertainty.\",\n",
       "   'supports': True,\n",
       "   'evidence_collection': {'evidence': [{'id': 'ev_4',\n",
       "      'text': \"Wally's phone GPS shows he was at the library coordinates\"},\n",
       "     {'id': 'ev_1',\n",
       "      'text': \"Librarian Jane saw someone matching Wally's description at 3pm\"}]},\n",
       "   'subclaims': []}],\n",
       " 'likelihood': {'supporting': 2, 'opposing': 0}}"
      ]
     },
     "execution_count": 15,
     "metadata": {},
     "output_type": "execute_result"
    }
   ],
   "source": [
    "updated_claim.model_dump()"
   ]
  },
  {
   "cell_type": "code",
   "execution_count": 23,
   "metadata": {},
   "outputs": [
    {
     "data": {
      "text/plain": [
       "Likelihood(supporting=2, opposing=0)"
      ]
     },
     "execution_count": 23,
     "metadata": {},
     "output_type": "execute_result"
    }
   ],
   "source": [
    "updated_claim.likelihood"
   ]
  },
  {
   "cell_type": "code",
   "execution_count": null,
   "metadata": {},
   "outputs": [],
   "source": [
    "\n",
    "# 3. Create a claim\n",
    "wally_claim = Claim(text=\"Wally is in the library\")\n",
    "print(f\"Created claim: {wally_claim.text} (ID: {wally_claim.id})\")\n",
    "\n",
    "# 4. Query for relevant evidence\n",
    "query_results = store.query(\"Wally library location\", n_results=3)\n",
    "print(\"\\nRelevant evidence for query 'Wally library location':\")\n",
    "for i, result in enumerate(query_results):\n",
    "    print(f\"{i+1}. {result['text']} (ID: {result['id']})\")\n",
    "\n",
    "selected_evidence_id = query_results[1]['id']\n",
    "\n",
    "# Create an argument manually\n",
    "argument = Argument(\n",
    "    text=\"Based on visual identification, Wally is at the library\",\n",
    "    supports=True,  # This supports our claim\n",
    "    evidence_ids=[selected_evidence_id]\n",
    ")\n",
    "\n",
    "# Add to our claim\n",
    "wally_claim.arguments.append(argument)\n",
    "wally_claim._update_likelihood()\n",
    "\n"
   ]
  },
  {
   "cell_type": "code",
   "execution_count": 4,
   "metadata": {},
   "outputs": [
    {
     "data": {
      "text/plain": [
       "{'id': 'ed9ce919-9d99-42ad-a96e-e76843934bae',\n",
       " 'text': 'Based on visual identification, Wally is at the library',\n",
       " 'supports': True,\n",
       " 'evidence_ids': ['ev_1'],\n",
       " 'subclaim_ids': []}"
      ]
     },
     "execution_count": 4,
     "metadata": {},
     "output_type": "execute_result"
    }
   ],
   "source": [
    "argument.model_dump()"
   ]
  },
  {
   "cell_type": "code",
   "execution_count": 5,
   "metadata": {},
   "outputs": [
    {
     "data": {
      "text/plain": [
       "{'ids': ['ev_1'],\n",
       " 'embeddings': None,\n",
       " 'documents': [\"Librarian Jane saw someone matching Wally's description at 3pm\"],\n",
       " 'uris': None,\n",
       " 'data': None,\n",
       " 'metadatas': [{'type': 'evidence'}],\n",
       " 'included': [<IncludeEnum.documents: 'documents'>,\n",
       "  <IncludeEnum.metadatas: 'metadatas'>]}"
      ]
     },
     "execution_count": 5,
     "metadata": {},
     "output_type": "execute_result"
    }
   ],
   "source": [
    "store.collection.get('ev_1')"
   ]
  },
  {
   "cell_type": "code",
   "execution_count": 3,
   "metadata": {},
   "outputs": [
    {
     "data": {
      "text/plain": [
       "'wally-is-in-the-library'"
      ]
     },
     "execution_count": 3,
     "metadata": {},
     "output_type": "execute_result"
    }
   ],
   "source": [
    "wally_claim.id"
   ]
  },
  {
   "cell_type": "code",
   "execution_count": null,
   "metadata": {},
   "outputs": [],
   "source": []
  }
 ],
 "metadata": {
  "kernelspec": {
   "display_name": ".venv (3.11.9)",
   "language": "python",
   "name": "python3"
  },
  "language_info": {
   "codemirror_mode": {
    "name": "ipython",
    "version": 3
   },
   "file_extension": ".py",
   "mimetype": "text/x-python",
   "name": "python",
   "nbconvert_exporter": "python",
   "pygments_lexer": "ipython3",
   "version": "3.11.9"
  }
 },
 "nbformat": 4,
 "nbformat_minor": 2
}
