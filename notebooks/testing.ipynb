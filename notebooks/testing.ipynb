{
 "cells": [
  {
   "cell_type": "code",
   "execution_count": null,
   "metadata": {},
   "outputs": [],
   "source": [
    "%load_ext autoreload"
   ]
  },
  {
   "cell_type": "code",
   "execution_count": null,
   "metadata": {},
   "outputs": [],
   "source": [
    "%autoreload 2\n",
    "import sys\n",
    "from pathlib import Path\n",
    "\n",
    "parent = str(Path().absolute().parent)\n",
    "if parent not in sys.path:\n",
    "    sys.path.insert(0,parent)\n",
    "from sherlock.evidence_store import EvidenceStore\n",
    "from sherlock.models import Claim, Evidence, Argument, EvidenceCollection\n",
    "from sherlock.agents import ClaimInvestgiationAgent\n",
    "from sherlock.utils import export_argdown\n",
    "import pyperclip"
   ]
  },
  {
   "cell_type": "code",
   "execution_count": null,
   "metadata": {},
   "outputs": [],
   "source": [
    "store = EvidenceStore(\"wally_evidence\")\n",
    "\n",
    "# Add our evidence\n",
    "evidence_ids = []\n",
    "evidence_ids.append(store.add_evidence(\"Librarian Jane saw someone matching Wally's description at 3pm\"))\n",
    "evidence_ids.append(store.add_evidence(\"Security camera shows someone in red and white stripes in the park\"))\n",
    "evidence_ids.append(store.add_evidence(\"Library card records don't show Wally checking out any books today\"))\n",
    "evidence_ids.append(store.add_evidence(\"Wally's phone GPS shows he was at the library coordinates\"))\n",
    "\n"
   ]
  },
  {
   "cell_type": "code",
   "execution_count": null,
   "metadata": {},
   "outputs": [],
   "source": [
    "\n",
    "\n",
    "agent_pro = ClaimInvestgiationAgent(store, supports=True)\n",
    "agent_con = ClaimInvestgiationAgent(store, supports=False)\n",
    "# Create a test claim\n",
    "wally_claim = Claim(text=\"Wally is in the library\")\n"
   ]
  },
  {
   "cell_type": "code",
   "execution_count": null,
   "metadata": {},
   "outputs": [],
   "source": [
    "wally_claim = agent_pro.evaluate_claim(wally_claim)\n",
    "wally_claim = agent_con.evaluate_claim(wally_claim)\n",
    "# Evaluate it\n",
    "wally_claim.likelihood"
   ]
  },
  {
   "cell_type": "code",
   "execution_count": null,
   "metadata": {},
   "outputs": [],
   "source": [
    "arg = export_argdown(wally_claim)"
   ]
  },
  {
   "cell_type": "code",
   "execution_count": null,
   "metadata": {},
   "outputs": [],
   "source": [
    "with open('argdown.txt', 'w') as f:\n",
    "    f.write(arg)"
   ]
  }
 ],
 "metadata": {
  "kernelspec": {
   "display_name": ".venv (3.11.9)",
   "language": "python",
   "name": "python3"
  },
  "language_info": {
   "codemirror_mode": {
    "name": "ipython",
    "version": 3
   },
   "file_extension": ".py",
   "mimetype": "text/x-python",
   "name": "python",
   "nbconvert_exporter": "python",
   "pygments_lexer": "ipython3",
   "version": "3.11.9"
  }
 },
 "nbformat": 4,
 "nbformat_minor": 2
}
