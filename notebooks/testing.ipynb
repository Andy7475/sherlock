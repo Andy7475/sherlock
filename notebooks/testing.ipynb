{
 "cells": [
  {
   "cell_type": "code",
   "execution_count": 1,
   "metadata": {},
   "outputs": [],
   "source": [
    "%load_ext autoreload"
   ]
  },
  {
   "cell_type": "code",
   "execution_count": 2,
   "metadata": {},
   "outputs": [],
   "source": [
    "%autoreload 2\n",
    "import sys\n",
    "from pathlib import Path\n",
    "\n",
    "parent = str(Path().absolute().parent)\n",
    "if parent not in sys.path:\n",
    "    sys.path.insert(0,parent)\n",
    "from sherlock.evidence_store import EvidenceStore\n",
    "from sherlock.models import Claim, Evidence, Argument, EvidenceCollection\n",
    "from sherlock.agents import ClaimInvestgiationAgent\n",
    "from sherlock.utils import export_argdown\n",
    "import pyperclip"
   ]
  },
  {
   "cell_type": "code",
   "execution_count": 3,
   "metadata": {},
   "outputs": [],
   "source": [
    "store = EvidenceStore(\"wally_evidence\")\n",
    "\n",
    "# Add our evidence\n",
    "evidence_ids = []\n",
    "evidence_ids.append(store.add_evidence(\"Librarian Jane saw someone matching Wally's description at 3pm\"))\n",
    "evidence_ids.append(store.add_evidence(\"Security camera shows someone in red and white stripes in the park\"))\n",
    "evidence_ids.append(store.add_evidence(\"Library card records don't show Wally checking out any books today\"))\n",
    "evidence_ids.append(store.add_evidence(\"Wally's phone GPS shows he was at the library coordinates\"))\n",
    "evidence_ids.append(store.add_evidence(\"Wally always wears a read and white striped top\"))\n",
    "\n"
   ]
  },
  {
   "cell_type": "code",
   "execution_count": 4,
   "metadata": {},
   "outputs": [],
   "source": [
    "\n",
    "\n",
    "agent_pro = ClaimInvestgiationAgent(store, supports=True)\n",
    "agent_con = ClaimInvestgiationAgent(store, supports=False)\n",
    "# Create a test claim\n",
    "wally_claim = Claim(text=\"Wally is in the library\")\n"
   ]
  },
  {
   "cell_type": "code",
   "execution_count": 5,
   "metadata": {},
   "outputs": [
    {
     "name": "stderr",
     "output_type": "stream",
     "text": [
      "19:46:20 | INFO | Starting evaluation of claim for supporting evidence: Wally is in the library\n",
      "19:46:20 | INFO | Starting iteration 1\n",
      "19:46:36 | INFO | Tool_use stop reason. Response.content: [TextBlock(citations=None, text='<thinking>\\nTo evaluate the claim \"Wally is in the library\" and find supporting evidence, I will:\\n\\n1. Search for evidence using the query_evidence tool with queries related to Wally being in the library, such as:\\n- \"Wally library\" \\n- \"Wally in the library\"\\n- \"Wally\\'s location library\"\\n\\n2. Review the returned evidence to see if any of it supports the claim that Wally is in the library. Keep evidence that is relevant and supports the claim.\\n\\n3. If I find 2-3 good pieces of supporting evidence, I can use that to create an argument with the create_argument tool to support the claim. The required parameters are:\\n- text: The main argument text, which I can write based on the evidence \\n- supports: Set to True since this argument will support the claim\\n- evidence_collection: The supporting evidence, using the evidence found in step 2\\n- subclaims: Any additional subclaims that strengthen the main argument (optional)\\n\\n4. If after 3 searches I don\\'t find sufficient evidence to support the claim, I can still create an argument, but note that the evidence is weak or lacking. The argument can point out the lack of strong supporting evidence for the claim.\\n\\nSo in summary, I will perform evidence searches, evaluate the results, and then use the relevant evidence to construct an argument supporting the claim, to the extent the evidence allows. Let\\'s proceed with the evidence searches.\\n</thinking>', type='text'), ToolUseBlock(id='toolu_01NvZFbyHUo9vVpHmRFGRacE', input={'query': 'Wally library'}, name='query_evidence', type='tool_use')]\n",
      "19:46:36 | INFO | Querying evidence store with: Wally library\n",
      "19:46:36 | INFO | result from tool query_evidence: evidence=[Evide, type is: <class 'sherlock.models.EvidenceCollection'>\n",
      "19:46:36 | INFO | [{'role': 'user', 'content': 'Evaluate this claim <claim>Wally is in the library</claim>. Use the tools to find supporting evidence and create an argument.'}, {'role': 'assistant', 'content': [TextBlock(citations=None, text='<thinking>\\nTo evaluate the claim \"Wally is in the library\" and find supporting evidence, I will:\\n\\n1. Search for evidence using the query_evidence tool with queries related to Wally being in the library, such as:\\n- \"Wally library\" \\n- \"Wally in the library\"\\n- \"Wally\\'s location library\"\\n\\n2. Review the returned evidence to see if any of it supports the claim that Wally is in the library. Keep evidence that is relevant and supports the claim.\\n\\n3. If I find 2-3 good pieces of supporting evidence, I can use that to create an argument with the create_argument tool to support the claim. The required parameters are:\\n- text: The main argument text, which I can write based on the evidence \\n- supports: Set to True since this argument will support the claim\\n- evidence_collection: The supporting evidence, using the evidence found in step 2\\n- subclaims: Any additional subclaims that strengthen the main argument (optional)\\n\\n4. If after 3 searches I don\\'t find sufficient evidence to support the claim, I can still create an argument, but note that the evidence is weak or lacking. The argument can point out the lack of strong supporting evidence for the claim.\\n\\nSo in summary, I will perform evidence searches, evaluate the results, and then use the relevant evidence to construct an argument supporting the claim, to the extent the evidence allows. Let\\'s proceed with the evidence searches.\\n</thinking>', type='text'), ToolUseBlock(id='toolu_01NvZFbyHUo9vVpHmRFGRacE', input={'query': 'Wally library'}, name='query_evidence', type='tool_use')]}, {'role': 'user', 'content': [{'type': 'tool_result', 'tool_use_id': 'toolu_01NvZFbyHUo9vVpHmRFGRacE', 'content': '{\"evidence\":[{\"id\":\"ev_4\",\"text\":\"Wally\\'s phone GPS shows he was at the library coordinates\"},{\"id\":\"ev_1\",\"text\":\"Librarian Jane saw someone matching Wally\\'s description at 3pm\"},{\"id\":\"ev_3\",\"text\":\"Library card records don\\'t show Wally checking out any books today\"}]}'}]}]\n",
      "19:46:36 | INFO | Starting iteration 2\n",
      "19:46:45 | INFO | Tool_use stop reason. Response.content: [TextBlock(citations=None, text='<thinking>\\nThe query \"Wally library\" returned some relevant evidence:\\n\\nev_4 and ev_1 support the claim that Wally was in the library:\\n- ev_4: Wally\\'s phone GPS places him at the library location\\n- ev_1: A librarian saw someone matching Wally\\'s description in the library\\n\\nev_3 about Wally not checking out books doesn\\'t necessarily support or refute him being in the library, so I\\'ll exclude that.\\n\\nI have 2 good supporting pieces of evidence, so I can proceed with creating an argument. But let me do one more search to see if I can find any additional support.\\n</thinking>', type='text'), ToolUseBlock(id='toolu_01EWFMFsRgBPGRZgoDhonaee', input={'query': 'Wally seen in library'}, name='query_evidence', type='tool_use')]\n",
      "19:46:45 | INFO | Querying evidence store with: Wally seen in library\n",
      "19:46:45 | INFO | result from tool query_evidence: evidence=[Evide, type is: <class 'sherlock.models.EvidenceCollection'>\n",
      "19:46:45 | INFO | [{'role': 'user', 'content': 'Evaluate this claim <claim>Wally is in the library</claim>. Use the tools to find supporting evidence and create an argument.'}, {'role': 'assistant', 'content': [TextBlock(citations=None, text='<thinking>\\nTo evaluate the claim \"Wally is in the library\" and find supporting evidence, I will:\\n\\n1. Search for evidence using the query_evidence tool with queries related to Wally being in the library, such as:\\n- \"Wally library\" \\n- \"Wally in the library\"\\n- \"Wally\\'s location library\"\\n\\n2. Review the returned evidence to see if any of it supports the claim that Wally is in the library. Keep evidence that is relevant and supports the claim.\\n\\n3. If I find 2-3 good pieces of supporting evidence, I can use that to create an argument with the create_argument tool to support the claim. The required parameters are:\\n- text: The main argument text, which I can write based on the evidence \\n- supports: Set to True since this argument will support the claim\\n- evidence_collection: The supporting evidence, using the evidence found in step 2\\n- subclaims: Any additional subclaims that strengthen the main argument (optional)\\n\\n4. If after 3 searches I don\\'t find sufficient evidence to support the claim, I can still create an argument, but note that the evidence is weak or lacking. The argument can point out the lack of strong supporting evidence for the claim.\\n\\nSo in summary, I will perform evidence searches, evaluate the results, and then use the relevant evidence to construct an argument supporting the claim, to the extent the evidence allows. Let\\'s proceed with the evidence searches.\\n</thinking>', type='text'), ToolUseBlock(id='toolu_01NvZFbyHUo9vVpHmRFGRacE', input={'query': 'Wally library'}, name='query_evidence', type='tool_use')]}, {'role': 'user', 'content': [{'type': 'tool_result', 'tool_use_id': 'toolu_01NvZFbyHUo9vVpHmRFGRacE', 'content': '{\"evidence\":[{\"id\":\"ev_4\",\"text\":\"Wally\\'s phone GPS shows he was at the library coordinates\"},{\"id\":\"ev_1\",\"text\":\"Librarian Jane saw someone matching Wally\\'s description at 3pm\"},{\"id\":\"ev_3\",\"text\":\"Library card records don\\'t show Wally checking out any books today\"}]}'}]}, {'role': 'assistant', 'content': [TextBlock(citations=None, text='<thinking>\\nThe query \"Wally library\" returned some relevant evidence:\\n\\nev_4 and ev_1 support the claim that Wally was in the library:\\n- ev_4: Wally\\'s phone GPS places him at the library location\\n- ev_1: A librarian saw someone matching Wally\\'s description in the library\\n\\nev_3 about Wally not checking out books doesn\\'t necessarily support or refute him being in the library, so I\\'ll exclude that.\\n\\nI have 2 good supporting pieces of evidence, so I can proceed with creating an argument. But let me do one more search to see if I can find any additional support.\\n</thinking>', type='text'), ToolUseBlock(id='toolu_01EWFMFsRgBPGRZgoDhonaee', input={'query': 'Wally seen in library'}, name='query_evidence', type='tool_use')]}, {'role': 'user', 'content': [{'type': 'tool_result', 'tool_use_id': 'toolu_01EWFMFsRgBPGRZgoDhonaee', 'content': '{\"evidence\":[{\"id\":\"ev_1\",\"text\":\"Librarian Jane saw someone matching Wally\\'s description at 3pm\"},{\"id\":\"ev_4\",\"text\":\"Wally\\'s phone GPS shows he was at the library coordinates\"},{\"id\":\"ev_5\",\"text\":\"Wally always wears a read and white striped top\"}]}'}]}]\n",
      "19:46:45 | INFO | Starting iteration 3\n",
      "19:46:58 | INFO | Tool_use stop reason. Response.content: [TextBlock(citations=None, text='<thinking>\\nThe query \"Wally seen in library\" mostly returned the same evidence as before (ev_1 and ev_4). The new evidence ev_5 about what Wally wears could potentially support the librarian\\'s sighting of him, but it\\'s not that strong on its own.\\n\\nI think the GPS data and librarian sighting are sufficient to construct a solid argument that Wally was in the library. Here is the argument I will submit:\\n</thinking>', type='text'), ToolUseBlock(id='toolu_01SUMzKMXfx4TiUNZ42dwY87', input={'text': \"Based on the available evidence, it appears very likely that Wally was in the library. Wally's phone GPS data places him at the library location. Additionally, librarian Jane reports seeing someone matching Wally's description in the library around 3pm. Together, the GPS data and eyewitness sighting provide strong support for the claim that Wally was in the library.\", 'supports': True, 'evidence_collection': {'evidence': [{'id': 'ev_4', 'text': \"Wally's phone GPS shows he was at the library coordinates\"}, {'id': 'ev_1', 'text': \"Librarian Jane saw someone matching Wally's description at 3pm\"}]}}, name='create_argument', type='tool_use')]\n",
      "19:46:58 | INFO | Creating supporting argument: Based on the available evidence, it appears very likely that Wally was in the library. Wally's phone GPS data places him at the library location. Additionally, librarian Jane reports seeing someone matching Wally's description in the library around 3pm. Together, the GPS data and eyewitness sighting provide strong support for the claim that Wally was in the library.\n",
      "19:46:58 | INFO | With 1 pieces of evidence and 0 subclaims\n",
      "19:46:58 | INFO | result from tool create_argument: id='b03ff225-66, type is: <class 'sherlock.models.Argument'>\n",
      "19:46:58 | INFO | create_argument called, evaluation complete: id='b03ff225-66e4-423e-9bc3-4c91c61fa86d' text=\"Based on the available evidence, it appears very likely that Wally was in the library. Wally's phone GPS data places him at the library location. Additionally, librarian Jane reports seeing someone matching Wally's description in the library around 3pm. Together, the GPS data and eyewitness sighting provide strong support for the claim that Wally was in the library.\" supports=True evidence_collection=EvidenceCollection(evidence=[Evidence(id='ev_4', text=\"Wally's phone GPS shows he was at the library coordinates\"), Evidence(id='ev_1', text=\"Librarian Jane saw someone matching Wally's description at 3pm\")]) subclaims=[]\n",
      "19:46:58 | INFO | Starting evaluation of claim for opposing evidence: Wally is in the library\n",
      "19:46:58 | INFO | Starting iteration 1\n",
      "19:47:09 | INFO | Tool_use stop reason. Response.content: [TextBlock(citations=None, text='<thinking>\\nTo evaluate the claim \"Wally is in the library\" and find opposing evidence, I will:\\n\\n1. Search for evidence related to Wally\\'s location using the query_evidence tool. Some potential search queries:\\n- \"Wally location\"\\n- \"Where is Wally\" \\n- \"Wally library\"\\n\\n2. Carefully review the returned evidence to see if any of it opposes the claim that Wally is in the library. Look for evidence that places Wally in a different location.\\n\\n3. If I find 2-3 pieces of evidence that oppose the claim, I can use that to construct an opposing argument using the create_argument tool.\\n\\n4. If after 3 searches I don\\'t find sufficient opposing evidence, I will submit a weaker argument noting the lack of evidence one way or the other.\\n\\n</thinking>', type='text'), ToolUseBlock(id='toolu_01VptRb9Nxqzd4sbCZzBazwc', input={'query': 'Wally location'}, name='query_evidence', type='tool_use')]\n",
      "19:47:09 | INFO | Querying evidence store with: Wally location\n",
      "19:47:09 | INFO | result from tool query_evidence: evidence=[Evide, type is: <class 'sherlock.models.EvidenceCollection'>\n",
      "19:47:09 | INFO | [{'role': 'user', 'content': 'Evaluate this claim <claim>Wally is in the library</claim>. Use the tools to find opposing evidence and create an argument.'}, {'role': 'assistant', 'content': [TextBlock(citations=None, text='<thinking>\\nTo evaluate the claim \"Wally is in the library\" and find opposing evidence, I will:\\n\\n1. Search for evidence related to Wally\\'s location using the query_evidence tool. Some potential search queries:\\n- \"Wally location\"\\n- \"Where is Wally\" \\n- \"Wally library\"\\n\\n2. Carefully review the returned evidence to see if any of it opposes the claim that Wally is in the library. Look for evidence that places Wally in a different location.\\n\\n3. If I find 2-3 pieces of evidence that oppose the claim, I can use that to construct an opposing argument using the create_argument tool.\\n\\n4. If after 3 searches I don\\'t find sufficient opposing evidence, I will submit a weaker argument noting the lack of evidence one way or the other.\\n\\n</thinking>', type='text'), ToolUseBlock(id='toolu_01VptRb9Nxqzd4sbCZzBazwc', input={'query': 'Wally location'}, name='query_evidence', type='tool_use')]}, {'role': 'user', 'content': [{'type': 'tool_result', 'tool_use_id': 'toolu_01VptRb9Nxqzd4sbCZzBazwc', 'content': '{\"evidence\":[{\"id\":\"ev_4\",\"text\":\"Wally\\'s phone GPS shows he was at the library coordinates\"},{\"id\":\"ev_1\",\"text\":\"Librarian Jane saw someone matching Wally\\'s description at 3pm\"},{\"id\":\"ev_5\",\"text\":\"Wally always wears a read and white striped top\"}]}'}]}]\n",
      "19:47:09 | INFO | Starting iteration 2\n",
      "19:47:15 | INFO | Tool_use stop reason. Response.content: [TextBlock(citations=None, text='This evidence supports the claim that Wally is in the library, so it does not help form an opposing argument. I will try another search.', type='text'), ToolUseBlock(id='toolu_01G6Yq6UPZhUkuYwsBU7hND4', input={'query': 'Where is Wally'}, name='query_evidence', type='tool_use')]\n",
      "19:47:15 | INFO | Querying evidence store with: Where is Wally\n",
      "19:47:15 | INFO | result from tool query_evidence: evidence=[Evide, type is: <class 'sherlock.models.EvidenceCollection'>\n",
      "19:47:15 | INFO | [{'role': 'user', 'content': 'Evaluate this claim <claim>Wally is in the library</claim>. Use the tools to find opposing evidence and create an argument.'}, {'role': 'assistant', 'content': [TextBlock(citations=None, text='<thinking>\\nTo evaluate the claim \"Wally is in the library\" and find opposing evidence, I will:\\n\\n1. Search for evidence related to Wally\\'s location using the query_evidence tool. Some potential search queries:\\n- \"Wally location\"\\n- \"Where is Wally\" \\n- \"Wally library\"\\n\\n2. Carefully review the returned evidence to see if any of it opposes the claim that Wally is in the library. Look for evidence that places Wally in a different location.\\n\\n3. If I find 2-3 pieces of evidence that oppose the claim, I can use that to construct an opposing argument using the create_argument tool.\\n\\n4. If after 3 searches I don\\'t find sufficient opposing evidence, I will submit a weaker argument noting the lack of evidence one way or the other.\\n\\n</thinking>', type='text'), ToolUseBlock(id='toolu_01VptRb9Nxqzd4sbCZzBazwc', input={'query': 'Wally location'}, name='query_evidence', type='tool_use')]}, {'role': 'user', 'content': [{'type': 'tool_result', 'tool_use_id': 'toolu_01VptRb9Nxqzd4sbCZzBazwc', 'content': '{\"evidence\":[{\"id\":\"ev_4\",\"text\":\"Wally\\'s phone GPS shows he was at the library coordinates\"},{\"id\":\"ev_1\",\"text\":\"Librarian Jane saw someone matching Wally\\'s description at 3pm\"},{\"id\":\"ev_5\",\"text\":\"Wally always wears a read and white striped top\"}]}'}]}, {'role': 'assistant', 'content': [TextBlock(citations=None, text='This evidence supports the claim that Wally is in the library, so it does not help form an opposing argument. I will try another search.', type='text'), ToolUseBlock(id='toolu_01G6Yq6UPZhUkuYwsBU7hND4', input={'query': 'Where is Wally'}, name='query_evidence', type='tool_use')]}, {'role': 'user', 'content': [{'type': 'tool_result', 'tool_use_id': 'toolu_01G6Yq6UPZhUkuYwsBU7hND4', 'content': '{\"evidence\":[{\"id\":\"ev_4\",\"text\":\"Wally\\'s phone GPS shows he was at the library coordinates\"},{\"id\":\"ev_5\",\"text\":\"Wally always wears a read and white striped top\"},{\"id\":\"ev_1\",\"text\":\"Librarian Jane saw someone matching Wally\\'s description at 3pm\"}]}'}]}]\n",
      "19:47:15 | INFO | Starting iteration 3\n",
      "19:47:20 | INFO | Tool_use stop reason. Response.content: [TextBlock(citations=None, text='Again, this evidence supports Wally being in the library rather than opposing it. One more search attempt:', type='text'), ToolUseBlock(id='toolu_01KfnA2XisEnWT9oDGeYsWb2', input={'query': 'Wally not library'}, name='query_evidence', type='tool_use')]\n",
      "19:47:20 | INFO | Querying evidence store with: Wally not library\n",
      "19:47:20 | INFO | result from tool query_evidence: evidence=[Evide, type is: <class 'sherlock.models.EvidenceCollection'>\n",
      "19:47:20 | INFO | [{'role': 'user', 'content': 'Evaluate this claim <claim>Wally is in the library</claim>. Use the tools to find opposing evidence and create an argument.'}, {'role': 'assistant', 'content': [TextBlock(citations=None, text='<thinking>\\nTo evaluate the claim \"Wally is in the library\" and find opposing evidence, I will:\\n\\n1. Search for evidence related to Wally\\'s location using the query_evidence tool. Some potential search queries:\\n- \"Wally location\"\\n- \"Where is Wally\" \\n- \"Wally library\"\\n\\n2. Carefully review the returned evidence to see if any of it opposes the claim that Wally is in the library. Look for evidence that places Wally in a different location.\\n\\n3. If I find 2-3 pieces of evidence that oppose the claim, I can use that to construct an opposing argument using the create_argument tool.\\n\\n4. If after 3 searches I don\\'t find sufficient opposing evidence, I will submit a weaker argument noting the lack of evidence one way or the other.\\n\\n</thinking>', type='text'), ToolUseBlock(id='toolu_01VptRb9Nxqzd4sbCZzBazwc', input={'query': 'Wally location'}, name='query_evidence', type='tool_use')]}, {'role': 'user', 'content': [{'type': 'tool_result', 'tool_use_id': 'toolu_01VptRb9Nxqzd4sbCZzBazwc', 'content': '{\"evidence\":[{\"id\":\"ev_4\",\"text\":\"Wally\\'s phone GPS shows he was at the library coordinates\"},{\"id\":\"ev_1\",\"text\":\"Librarian Jane saw someone matching Wally\\'s description at 3pm\"},{\"id\":\"ev_5\",\"text\":\"Wally always wears a read and white striped top\"}]}'}]}, {'role': 'assistant', 'content': [TextBlock(citations=None, text='This evidence supports the claim that Wally is in the library, so it does not help form an opposing argument. I will try another search.', type='text'), ToolUseBlock(id='toolu_01G6Yq6UPZhUkuYwsBU7hND4', input={'query': 'Where is Wally'}, name='query_evidence', type='tool_use')]}, {'role': 'user', 'content': [{'type': 'tool_result', 'tool_use_id': 'toolu_01G6Yq6UPZhUkuYwsBU7hND4', 'content': '{\"evidence\":[{\"id\":\"ev_4\",\"text\":\"Wally\\'s phone GPS shows he was at the library coordinates\"},{\"id\":\"ev_5\",\"text\":\"Wally always wears a read and white striped top\"},{\"id\":\"ev_1\",\"text\":\"Librarian Jane saw someone matching Wally\\'s description at 3pm\"}]}'}]}, {'role': 'assistant', 'content': [TextBlock(citations=None, text='Again, this evidence supports Wally being in the library rather than opposing it. One more search attempt:', type='text'), ToolUseBlock(id='toolu_01KfnA2XisEnWT9oDGeYsWb2', input={'query': 'Wally not library'}, name='query_evidence', type='tool_use')]}, {'role': 'user', 'content': [{'type': 'tool_result', 'tool_use_id': 'toolu_01KfnA2XisEnWT9oDGeYsWb2', 'content': '{\"evidence\":[{\"id\":\"ev_4\",\"text\":\"Wally\\'s phone GPS shows he was at the library coordinates\"},{\"id\":\"ev_3\",\"text\":\"Library card records don\\'t show Wally checking out any books today\"},{\"id\":\"ev_1\",\"text\":\"Librarian Jane saw someone matching Wally\\'s description at 3pm\"}]}'}]}]\n",
      "19:47:20 | INFO | Starting iteration 4\n",
      "19:47:33 | INFO | Tool_use stop reason. Response.content: [TextBlock(citations=None, text=\"The evidence about library records not showing Wally checking out books could potentially oppose him being at the library. However, it's fairly weak evidence, as he could have been at the library without checking anything out. \\n\\nAfter 3 searches, I did not find any strong evidence directly opposing the claim that Wally is in the library. The best I can do is submit a weak opposing argument based on the lack of library checkout records:\", type='text'), ToolUseBlock(id='toolu_01VyNrF3sPgWzsHFsgiuNXTm', input={'text': \"While there are eyewitness reports and GPS data placing Wally at the library, the library's records do not show Wally checking out any books today. This raises some doubt about whether he was actually in the library, as most people go to the library to check out books. Without records of Wally's specific activities, we cannot be fully certain he was in the library.\", 'supports': False, 'evidence_collection': {'evidence': [{'text': \"Library card records don't show Wally checking out any books today\"}]}}, name='create_argument', type='tool_use')]\n",
      "19:47:33 | INFO | Creating opposing argument: While there are eyewitness reports and GPS data placing Wally at the library, the library's records do not show Wally checking out any books today. This raises some doubt about whether he was actually in the library, as most people go to the library to check out books. Without records of Wally's specific activities, we cannot be fully certain he was in the library.\n",
      "19:47:33 | INFO | With 1 pieces of evidence and 0 subclaims\n",
      "19:47:33 | INFO | result from tool create_argument: id='ddc767e2-52, type is: <class 'sherlock.models.Argument'>\n",
      "19:47:33 | INFO | create_argument called, evaluation complete: id='ddc767e2-5260-45e0-a95f-1fa50d52e9b4' text=\"While there are eyewitness reports and GPS data placing Wally at the library, the library's records do not show Wally checking out any books today. This raises some doubt about whether he was actually in the library, as most people go to the library to check out books. Without records of Wally's specific activities, we cannot be fully certain he was in the library.\" supports=False evidence_collection=EvidenceCollection(evidence=[Evidence(id='f33bdcf3-dbe6-4a06-b77a-281afcce27e6', text=\"Library card records don't show Wally checking out any books today\")]) subclaims=[]\n"
     ]
    },
    {
     "data": {
      "text/plain": [
       "Likelihood(supporting=2, opposing=1)"
      ]
     },
     "execution_count": 5,
     "metadata": {},
     "output_type": "execute_result"
    }
   ],
   "source": [
    "wally_claim = agent_pro.evaluate_claim(wally_claim)\n",
    "wally_claim = agent_con.evaluate_claim(wally_claim)\n",
    "# Evaluate it\n",
    "wally_claim.likelihood"
   ]
  },
  {
   "cell_type": "code",
   "execution_count": 6,
   "metadata": {},
   "outputs": [],
   "source": [
    "arg = export_argdown(wally_claim)"
   ]
  },
  {
   "cell_type": "code",
   "execution_count": 7,
   "metadata": {},
   "outputs": [],
   "source": [
    "with open('argdown.txt', 'w') as f:\n",
    "    f.write(arg)"
   ]
  },
  {
   "cell_type": "code",
   "execution_count": null,
   "metadata": {},
   "outputs": [],
   "source": []
  }
 ],
 "metadata": {
  "kernelspec": {
   "display_name": ".venv (3.11.9)",
   "language": "python",
   "name": "python3"
  },
  "language_info": {
   "codemirror_mode": {
    "name": "ipython",
    "version": 3
   },
   "file_extension": ".py",
   "mimetype": "text/x-python",
   "name": "python",
   "nbconvert_exporter": "python",
   "pygments_lexer": "ipython3",
   "version": "3.11.9"
  }
 },
 "nbformat": 4,
 "nbformat_minor": 2
}
