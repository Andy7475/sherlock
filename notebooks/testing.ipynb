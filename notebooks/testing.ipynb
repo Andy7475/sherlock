{
 "cells": [
  {
   "cell_type": "code",
   "execution_count": 5,
   "metadata": {},
   "outputs": [],
   "source": [
    "%load_ext autoreload"
   ]
  },
  {
   "cell_type": "code",
   "execution_count": 8,
   "metadata": {},
   "outputs": [],
   "source": [
    "%autoreload 2\n",
    "import sys\n",
    "from pathlib import Path\n",
    "\n",
    "parent = str(Path().absolute().parent)\n",
    "if parent not in sys.path:\n",
    "    sys.path.insert(0,parent)\n",
    "from sherlock.evidence_store import EvidenceStore\n",
    "from sherlock.models import Claim, Evidence, Argument\n",
    "from sherlock.agents import ClaimSupportAgent"
   ]
  },
  {
   "cell_type": "code",
   "execution_count": 9,
   "metadata": {},
   "outputs": [],
   "source": [
    "store = EvidenceStore(\"wally_evidence\")\n",
    "\n",
    "# Add our evidence\n",
    "evidence_ids = []\n",
    "evidence_ids.append(store.add_evidence(\"Librarian Jane saw someone matching Wally's description at 3pm\"))\n",
    "evidence_ids.append(store.add_evidence(\"Security camera shows someone in red and white stripes in the park\"))\n",
    "evidence_ids.append(store.add_evidence(\"Library card records don't show Wally checking out any books today\"))\n",
    "evidence_ids.append(store.add_evidence(\"Wally's phone GPS shows he was at the library coordinates\"))\n",
    "\n"
   ]
  },
  {
   "cell_type": "code",
   "execution_count": 13,
   "metadata": {},
   "outputs": [
    {
     "name": "stderr",
     "output_type": "stream",
     "text": [
      "10:34:22 | INFO | Starting evaluation of claim: Wally is in the library\n",
      "10:34:22 | INFO | Starting iteration 1\n"
     ]
    },
    {
     "ename": "AttributeError",
     "evalue": "'Message' object has no attribute 'tool_calls'",
     "output_type": "error",
     "traceback": [
      "\u001b[1;31m---------------------------------------------------------------------------\u001b[0m",
      "\u001b[1;31mAttributeError\u001b[0m                            Traceback (most recent call last)",
      "Cell \u001b[1;32mIn[13], line 7\u001b[0m\n\u001b[0;32m      4\u001b[0m wally_claim \u001b[38;5;241m=\u001b[39m Claim(text\u001b[38;5;241m=\u001b[39m\u001b[38;5;124m\"\u001b[39m\u001b[38;5;124mWally is in the library\u001b[39m\u001b[38;5;124m\"\u001b[39m)\n\u001b[0;32m      6\u001b[0m \u001b[38;5;66;03m# Evaluate it\u001b[39;00m\n\u001b[1;32m----> 7\u001b[0m updated_claim \u001b[38;5;241m=\u001b[39m \u001b[43magent\u001b[49m\u001b[38;5;241;43m.\u001b[39;49m\u001b[43mevaluate_claim\u001b[49m\u001b[43m(\u001b[49m\u001b[43mwally_claim\u001b[49m\u001b[43m)\u001b[49m\n",
      "File \u001b[1;32my:\\Python Scripts\\sherlock\\sherlock\\agents.py:154\u001b[0m, in \u001b[0;36mClaimSupportAgent.evaluate_claim\u001b[1;34m(self, claim)\u001b[0m\n\u001b[0;32m    144\u001b[0m response \u001b[38;5;241m=\u001b[39m \u001b[38;5;28mself\u001b[39m\u001b[38;5;241m.\u001b[39mclient\u001b[38;5;241m.\u001b[39mmessages\u001b[38;5;241m.\u001b[39mcreate(\n\u001b[0;32m    145\u001b[0m     model\u001b[38;5;241m=\u001b[39m\u001b[38;5;124m\"\u001b[39m\u001b[38;5;124mclaude-3-opus-latest\u001b[39m\u001b[38;5;124m\"\u001b[39m,\n\u001b[0;32m    146\u001b[0m     system\u001b[38;5;241m=\u001b[39mSYSTEM_PROMPT,\n\u001b[1;32m   (...)\u001b[0m\n\u001b[0;32m    150\u001b[0m     tools\u001b[38;5;241m=\u001b[39m[create_argument_tool, evidence_query_tool],\n\u001b[0;32m    151\u001b[0m )\n\u001b[0;32m    153\u001b[0m \u001b[38;5;66;03m# Process tool calls if any\u001b[39;00m\n\u001b[1;32m--> 154\u001b[0m tool_calls \u001b[38;5;241m=\u001b[39m \u001b[43mresponse\u001b[49m\u001b[38;5;241;43m.\u001b[39;49m\u001b[43mtool_calls\u001b[49m\n\u001b[0;32m    155\u001b[0m \u001b[38;5;28;01mif\u001b[39;00m tool_calls:\n\u001b[0;32m    156\u001b[0m     \u001b[38;5;28;01mfor\u001b[39;00m tool_call \u001b[38;5;129;01min\u001b[39;00m tool_calls:\n",
      "File \u001b[1;32my:\\Python Scripts\\sherlock\\.venv\\Lib\\site-packages\\pydantic\\main.py:891\u001b[0m, in \u001b[0;36mBaseModel.__getattr__\u001b[1;34m(self, item)\u001b[0m\n\u001b[0;32m    888\u001b[0m     \u001b[38;5;28;01mreturn\u001b[39;00m \u001b[38;5;28msuper\u001b[39m()\u001b[38;5;241m.\u001b[39m\u001b[38;5;21m__getattribute__\u001b[39m(item)  \u001b[38;5;66;03m# Raises AttributeError if appropriate\u001b[39;00m\n\u001b[0;32m    889\u001b[0m \u001b[38;5;28;01melse\u001b[39;00m:\n\u001b[0;32m    890\u001b[0m     \u001b[38;5;66;03m# this is the current error\u001b[39;00m\n\u001b[1;32m--> 891\u001b[0m     \u001b[38;5;28;01mraise\u001b[39;00m \u001b[38;5;167;01mAttributeError\u001b[39;00m(\u001b[38;5;124mf\u001b[39m\u001b[38;5;124m'\u001b[39m\u001b[38;5;132;01m{\u001b[39;00m\u001b[38;5;28mtype\u001b[39m(\u001b[38;5;28mself\u001b[39m)\u001b[38;5;241m.\u001b[39m\u001b[38;5;18m__name__\u001b[39m\u001b[38;5;132;01m!r}\u001b[39;00m\u001b[38;5;124m object has no attribute \u001b[39m\u001b[38;5;132;01m{\u001b[39;00mitem\u001b[38;5;132;01m!r}\u001b[39;00m\u001b[38;5;124m'\u001b[39m)\n",
      "\u001b[1;31mAttributeError\u001b[0m: 'Message' object has no attribute 'tool_calls'"
     ]
    }
   ],
   "source": [
    "\n",
    "\n",
    "agent = ClaimSupportAgent(store)\n",
    "\n",
    "# Create a test claim\n",
    "wally_claim = Claim(text=\"Wally is in the library\")\n",
    "\n",
    "# Evaluate it\n",
    "updated_claim = agent.evaluate_claim(wally_claim)"
   ]
  },
  {
   "cell_type": "code",
   "execution_count": null,
   "metadata": {},
   "outputs": [],
   "source": [
    "\n",
    "# 3. Create a claim\n",
    "wally_claim = Claim(text=\"Wally is in the library\")\n",
    "print(f\"Created claim: {wally_claim.text} (ID: {wally_claim.id})\")\n",
    "\n",
    "# 4. Query for relevant evidence\n",
    "query_results = store.query(\"Wally library location\", n_results=3)\n",
    "print(\"\\nRelevant evidence for query 'Wally library location':\")\n",
    "for i, result in enumerate(query_results):\n",
    "    print(f\"{i+1}. {result['text']} (ID: {result['id']})\")\n",
    "\n",
    "selected_evidence_id = query_results[1]['id']\n",
    "\n",
    "# Create an argument manually\n",
    "argument = Argument(\n",
    "    text=\"Based on visual identification, Wally is at the library\",\n",
    "    supports=True,  # This supports our claim\n",
    "    evidence_ids=[selected_evidence_id]\n",
    ")\n",
    "\n",
    "# Add to our claim\n",
    "wally_claim.arguments.append(argument)\n",
    "wally_claim._update_likelihood()\n",
    "\n"
   ]
  },
  {
   "cell_type": "code",
   "execution_count": 4,
   "metadata": {},
   "outputs": [
    {
     "data": {
      "text/plain": [
       "{'id': 'ed9ce919-9d99-42ad-a96e-e76843934bae',\n",
       " 'text': 'Based on visual identification, Wally is at the library',\n",
       " 'supports': True,\n",
       " 'evidence_ids': ['ev_1'],\n",
       " 'subclaim_ids': []}"
      ]
     },
     "execution_count": 4,
     "metadata": {},
     "output_type": "execute_result"
    }
   ],
   "source": [
    "argument.model_dump()"
   ]
  },
  {
   "cell_type": "code",
   "execution_count": 5,
   "metadata": {},
   "outputs": [
    {
     "data": {
      "text/plain": [
       "{'ids': ['ev_1'],\n",
       " 'embeddings': None,\n",
       " 'documents': [\"Librarian Jane saw someone matching Wally's description at 3pm\"],\n",
       " 'uris': None,\n",
       " 'data': None,\n",
       " 'metadatas': [{'type': 'evidence'}],\n",
       " 'included': [<IncludeEnum.documents: 'documents'>,\n",
       "  <IncludeEnum.metadatas: 'metadatas'>]}"
      ]
     },
     "execution_count": 5,
     "metadata": {},
     "output_type": "execute_result"
    }
   ],
   "source": [
    "store.collection.get('ev_1')"
   ]
  },
  {
   "cell_type": "code",
   "execution_count": 3,
   "metadata": {},
   "outputs": [
    {
     "data": {
      "text/plain": [
       "'wally-is-in-the-library'"
      ]
     },
     "execution_count": 3,
     "metadata": {},
     "output_type": "execute_result"
    }
   ],
   "source": [
    "wally_claim.id"
   ]
  },
  {
   "cell_type": "code",
   "execution_count": null,
   "metadata": {},
   "outputs": [],
   "source": []
  }
 ],
 "metadata": {
  "kernelspec": {
   "display_name": ".venv",
   "language": "python",
   "name": "python3"
  },
  "language_info": {
   "codemirror_mode": {
    "name": "ipython",
    "version": 3
   },
   "file_extension": ".py",
   "mimetype": "text/x-python",
   "name": "python",
   "nbconvert_exporter": "python",
   "pygments_lexer": "ipython3",
   "version": "3.11.4"
  }
 },
 "nbformat": 4,
 "nbformat_minor": 2
}
