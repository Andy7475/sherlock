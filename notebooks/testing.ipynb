{
 "cells": [
  {
   "cell_type": "code",
   "execution_count": 1,
   "metadata": {},
   "outputs": [],
   "source": [
    "%load_ext autoreload"
   ]
  },
  {
   "cell_type": "code",
   "execution_count": 43,
   "metadata": {},
   "outputs": [],
   "source": [
    "%autoreload 2\n",
    "import sys\n",
    "from pathlib import Path\n",
    "\n",
    "parent = str(Path().absolute().parent)\n",
    "if parent not in sys.path:\n",
    "    sys.path.insert(0,parent)\n",
    "from sherlock.evidence_store import EvidenceStore\n",
    "from sherlock.models import Claim, Evidence, Argument, EvidenceCollection\n",
    "from sherlock.agents import ClaimInvesgiationAgent\n",
    "from sherlock.utils import export_argdown\n",
    "import pyperclip"
   ]
  },
  {
   "cell_type": "code",
   "execution_count": 5,
   "metadata": {},
   "outputs": [],
   "source": [
    "store = EvidenceStore(\"wally_evidence\")\n",
    "\n",
    "# Add our evidence\n",
    "evidence_ids = []\n",
    "evidence_ids.append(store.add_evidence(\"Librarian Jane saw someone matching Wally's description at 3pm\"))\n",
    "evidence_ids.append(store.add_evidence(\"Security camera shows someone in red and white stripes in the park\"))\n",
    "evidence_ids.append(store.add_evidence(\"Library card records don't show Wally checking out any books today\"))\n",
    "evidence_ids.append(store.add_evidence(\"Wally's phone GPS shows he was at the library coordinates\"))\n",
    "\n"
   ]
  },
  {
   "cell_type": "code",
   "execution_count": 22,
   "metadata": {},
   "outputs": [],
   "source": [
    "\n",
    "\n",
    "agent_pro = ClaimInvesgiationAgent(store, supports=True)\n",
    "agent_con = ClaimInvesgiationAgent(store, supports=False)\n",
    "# Create a test claim\n",
    "wally_claim = Claim(text=\"Wally is in the library\")\n"
   ]
  },
  {
   "cell_type": "code",
   "execution_count": 23,
   "metadata": {},
   "outputs": [
    {
     "name": "stderr",
     "output_type": "stream",
     "text": [
      "17:10:18 | INFO | Starting evaluation of claim for supporting evidence: Wally is in the library\n",
      "17:10:18 | INFO | Starting iteration 1\n",
      "17:10:30 | INFO | Tool_use stop reason. Response.content: [TextBlock(citations=None, text='<thinking>\\nThe claim is \"Wally is in the library\". To evaluate this claim and find supporting evidence, I will:\\n\\n1. Analyze the key concepts in the claim:\\n- Wally (a person)\\n- library (a location)\\n\\n2. Search for evidence related to those key concepts using the query_evidence tool. Some potential search queries:\\n- \"Wally library\"\\n- \"Wally in the library\" \\n- \"Wally\\'s location library\"\\n\\n3. Evaluate the returned evidence to see if it supports the claim that Wally is in the library. Keep any evidence that indicates Wally\\'s location is the library.\\n\\n4. If 2-3 pieces of supporting evidence are found, use the create_argument tool to form an argument that the claim is true, using the evidence.\\n\\n5. If insufficient supporting evidence is found after 3 searches, submit an argument with weak/no evidence contesting the claim.\\n</thinking>', type='text'), ToolUseBlock(id='toolu_012X7cabaL7sHCRbSJeQfpUu', input={'query': 'Wally library'}, name='query_evidence', type='tool_use')]\n",
      "17:10:30 | INFO | Querying evidence store with: Wally library\n",
      "17:10:30 | INFO | result from tool query_evidence: evidence=[Evide, type is: <class 'sherlock.models.EvidenceCollection'>\n",
      "17:10:30 | INFO | [{'role': 'user', 'content': 'Evaluate this claim <claim>Wally is in the library</claim>. Use the tools to find supporting evidence and create an argument.'}, {'role': 'assistant', 'content': [TextBlock(citations=None, text='<thinking>\\nThe claim is \"Wally is in the library\". To evaluate this claim and find supporting evidence, I will:\\n\\n1. Analyze the key concepts in the claim:\\n- Wally (a person)\\n- library (a location)\\n\\n2. Search for evidence related to those key concepts using the query_evidence tool. Some potential search queries:\\n- \"Wally library\"\\n- \"Wally in the library\" \\n- \"Wally\\'s location library\"\\n\\n3. Evaluate the returned evidence to see if it supports the claim that Wally is in the library. Keep any evidence that indicates Wally\\'s location is the library.\\n\\n4. If 2-3 pieces of supporting evidence are found, use the create_argument tool to form an argument that the claim is true, using the evidence.\\n\\n5. If insufficient supporting evidence is found after 3 searches, submit an argument with weak/no evidence contesting the claim.\\n</thinking>', type='text'), ToolUseBlock(id='toolu_012X7cabaL7sHCRbSJeQfpUu', input={'query': 'Wally library'}, name='query_evidence', type='tool_use')]}, {'role': 'user', 'content': [{'type': 'tool_result', 'tool_use_id': 'toolu_012X7cabaL7sHCRbSJeQfpUu', 'content': '{\"evidence\":[{\"id\":\"ev_4\",\"text\":\"Wally\\'s phone GPS shows he was at the library coordinates\"},{\"id\":\"ev_8\",\"text\":\"Wally\\'s phone GPS shows he was at the library coordinates\"},{\"id\":\"ev_5\",\"text\":\"Librarian Jane saw someone matching Wally\\'s description at 3pm\"}]}'}]}]\n",
      "17:10:30 | INFO | Starting iteration 2\n",
      "17:10:38 | INFO | Tool_use stop reason. Response.content: [TextBlock(citations=None, text=\"<thinking>\\nThe evidence from the first search provides some support for the claim:\\n- ev_4 and ev_8: Wally's phone GPS showed he was at the library coordinates. This directly supports that Wally was at the library location.\\n- ev_5: A librarian saw someone matching Wally's description at the library. This provides additional corroboration that Wally was likely at the library.\\n\\nHowever, to further strengthen the argument, I will do one more search to see if any additional supporting evidence can be found.\\n</thinking>\", type='text'), ToolUseBlock(id='toolu_01CnbQmCyBr31tHBwQo33w55', input={'query': 'Wally location library'}, name='query_evidence', type='tool_use')]\n",
      "17:10:38 | INFO | Querying evidence store with: Wally location library\n",
      "17:10:38 | INFO | result from tool query_evidence: evidence=[Evide, type is: <class 'sherlock.models.EvidenceCollection'>\n",
      "17:10:38 | INFO | [{'role': 'user', 'content': 'Evaluate this claim <claim>Wally is in the library</claim>. Use the tools to find supporting evidence and create an argument.'}, {'role': 'assistant', 'content': [TextBlock(citations=None, text='<thinking>\\nThe claim is \"Wally is in the library\". To evaluate this claim and find supporting evidence, I will:\\n\\n1. Analyze the key concepts in the claim:\\n- Wally (a person)\\n- library (a location)\\n\\n2. Search for evidence related to those key concepts using the query_evidence tool. Some potential search queries:\\n- \"Wally library\"\\n- \"Wally in the library\" \\n- \"Wally\\'s location library\"\\n\\n3. Evaluate the returned evidence to see if it supports the claim that Wally is in the library. Keep any evidence that indicates Wally\\'s location is the library.\\n\\n4. If 2-3 pieces of supporting evidence are found, use the create_argument tool to form an argument that the claim is true, using the evidence.\\n\\n5. If insufficient supporting evidence is found after 3 searches, submit an argument with weak/no evidence contesting the claim.\\n</thinking>', type='text'), ToolUseBlock(id='toolu_012X7cabaL7sHCRbSJeQfpUu', input={'query': 'Wally library'}, name='query_evidence', type='tool_use')]}, {'role': 'user', 'content': [{'type': 'tool_result', 'tool_use_id': 'toolu_012X7cabaL7sHCRbSJeQfpUu', 'content': '{\"evidence\":[{\"id\":\"ev_4\",\"text\":\"Wally\\'s phone GPS shows he was at the library coordinates\"},{\"id\":\"ev_8\",\"text\":\"Wally\\'s phone GPS shows he was at the library coordinates\"},{\"id\":\"ev_5\",\"text\":\"Librarian Jane saw someone matching Wally\\'s description at 3pm\"}]}'}]}, {'role': 'assistant', 'content': [TextBlock(citations=None, text=\"<thinking>\\nThe evidence from the first search provides some support for the claim:\\n- ev_4 and ev_8: Wally's phone GPS showed he was at the library coordinates. This directly supports that Wally was at the library location.\\n- ev_5: A librarian saw someone matching Wally's description at the library. This provides additional corroboration that Wally was likely at the library.\\n\\nHowever, to further strengthen the argument, I will do one more search to see if any additional supporting evidence can be found.\\n</thinking>\", type='text'), ToolUseBlock(id='toolu_01CnbQmCyBr31tHBwQo33w55', input={'query': 'Wally location library'}, name='query_evidence', type='tool_use')]}, {'role': 'user', 'content': [{'type': 'tool_result', 'tool_use_id': 'toolu_01CnbQmCyBr31tHBwQo33w55', 'content': '{\"evidence\":[{\"id\":\"ev_4\",\"text\":\"Wally\\'s phone GPS shows he was at the library coordinates\"},{\"id\":\"ev_8\",\"text\":\"Wally\\'s phone GPS shows he was at the library coordinates\"},{\"id\":\"ev_5\",\"text\":\"Librarian Jane saw someone matching Wally\\'s description at 3pm\"}]}'}]}]\n",
      "17:10:38 | INFO | Starting iteration 3\n",
      "17:10:49 | INFO | Tool_use stop reason. Response.content: [TextBlock(citations=None, text='<thinking>\\nThe second search returned the same evidence as the first search, providing no additional support. I believe I have sufficient evidence to form a supporting argument for the claim using the create_argument tool.\\n</thinking>', type='text'), ToolUseBlock(id='toolu_01XDMkPd9ExRpK92v4boLmXx', input={'text': \"The evidence strongly supports that Wally was in the library. His phone's GPS coordinates place him at the library location. Additionally, a librarian reports seeing someone matching Wally's description in the library. Together, this evidence corroborates the claim that Wally was in fact in the library.\", 'supports': True, 'evidence_collection': {'evidence': [{'id': 'ev_4', 'text': \"Wally's phone GPS shows he was at the library coordinates\"}, {'id': 'ev_5', 'text': \"Librarian Jane saw someone matching Wally's description at 3pm\"}]}}, name='create_argument', type='tool_use')]\n",
      "17:10:49 | INFO | Creating supporting argument: The evidence strongly supports that Wally was in the library. His phone's GPS coordinates place him at the library location. Additionally, a librarian reports seeing someone matching Wally's description in the library. Together, this evidence corroborates the claim that Wally was in fact in the library.\n",
      "17:10:49 | INFO | With 1 pieces of evidence and 0 subclaims\n",
      "17:10:49 | INFO | result from tool create_argument: id='4f949f2b-38, type is: <class 'sherlock.models.Argument'>\n",
      "17:10:49 | INFO | create_argument called, evaluation complete: id='4f949f2b-38cd-4682-8838-9f44fd965e90' text=\"The evidence strongly supports that Wally was in the library. His phone's GPS coordinates place him at the library location. Additionally, a librarian reports seeing someone matching Wally's description in the library. Together, this evidence corroborates the claim that Wally was in fact in the library.\" supports=True evidence_collection=EvidenceCollection(evidence=[Evidence(id='ev_4', text=\"Wally's phone GPS shows he was at the library coordinates\"), Evidence(id='ev_5', text=\"Librarian Jane saw someone matching Wally's description at 3pm\")]) subclaims=[]\n",
      "17:10:49 | INFO | Starting evaluation of claim for opposing evidence: Wally is in the library\n",
      "17:10:49 | INFO | Starting iteration 1\n",
      "17:11:00 | INFO | Tool_use stop reason. Response.content: [TextBlock(citations=None, text='<thinking>\\nTo evaluate the claim \"Wally is in the library\" and find opposing evidence, I will:\\n\\n1. Analyze the key concepts in the claim:\\n   - Wally (a person)\\n   - Library (a location)\\n\\n2. Use the query_evidence tool to search for evidence that opposes Wally being in the library. Some potential search queries:\\n   - \"Wally is not in the library\"\\n   - \"Wally is somewhere else\"\\n   - \"Wally left the library\"\\n\\n3. Evaluate the returned evidence to see if it opposes the claim. Keep only the most relevant opposing evidence.\\n\\n4. If sufficient opposing evidence is found (2-3 pieces), use the create_argument tool to construct an argument against the claim, supported by the evidence.\\n\\n5. If insufficient opposing evidence is found after 3 searches, submit a weaker argument with limited or no evidence.\\n</thinking>', type='text'), ToolUseBlock(id='toolu_01MU6g9v5q63T1QWiuBseoaR', input={'query': 'Wally is not in the library'}, name='query_evidence', type='tool_use')]\n",
      "17:11:00 | INFO | Querying evidence store with: Wally is not in the library\n",
      "17:11:00 | INFO | result from tool query_evidence: evidence=[Evide, type is: <class 'sherlock.models.EvidenceCollection'>\n",
      "17:11:00 | INFO | [{'role': 'user', 'content': 'Evaluate this claim <claim>Wally is in the library</claim>. Use the tools to find opposing evidence and create an argument.'}, {'role': 'assistant', 'content': [TextBlock(citations=None, text='<thinking>\\nTo evaluate the claim \"Wally is in the library\" and find opposing evidence, I will:\\n\\n1. Analyze the key concepts in the claim:\\n   - Wally (a person)\\n   - Library (a location)\\n\\n2. Use the query_evidence tool to search for evidence that opposes Wally being in the library. Some potential search queries:\\n   - \"Wally is not in the library\"\\n   - \"Wally is somewhere else\"\\n   - \"Wally left the library\"\\n\\n3. Evaluate the returned evidence to see if it opposes the claim. Keep only the most relevant opposing evidence.\\n\\n4. If sufficient opposing evidence is found (2-3 pieces), use the create_argument tool to construct an argument against the claim, supported by the evidence.\\n\\n5. If insufficient opposing evidence is found after 3 searches, submit a weaker argument with limited or no evidence.\\n</thinking>', type='text'), ToolUseBlock(id='toolu_01MU6g9v5q63T1QWiuBseoaR', input={'query': 'Wally is not in the library'}, name='query_evidence', type='tool_use')]}, {'role': 'user', 'content': [{'type': 'tool_result', 'tool_use_id': 'toolu_01MU6g9v5q63T1QWiuBseoaR', 'content': '{\"evidence\":[{\"id\":\"ev_4\",\"text\":\"Wally\\'s phone GPS shows he was at the library coordinates\"},{\"id\":\"ev_8\",\"text\":\"Wally\\'s phone GPS shows he was at the library coordinates\"},{\"id\":\"ev_3\",\"text\":\"Library card records don\\'t show Wally checking out any books today\"}]}'}]}]\n",
      "17:11:00 | INFO | Starting iteration 2\n",
      "17:11:05 | INFO | Tool_use stop reason. Response.content: [TextBlock(citations=None, text='<thinking>\\nThe evidence so far does not strongly oppose the claim. The GPS evidence actually supports Wally being at the library. The lack of library card records is weak opposing evidence, as Wally could be at the library without checking out books. \\nI will try another search for stronger opposing evidence.\\n</thinking>', type='text'), ToolUseBlock(id='toolu_01TQg3EQR5xSzfwtii8GBNfg', input={'query': 'Wally left the library'}, name='query_evidence', type='tool_use')]\n",
      "17:11:05 | INFO | Querying evidence store with: Wally left the library\n",
      "17:11:05 | INFO | result from tool query_evidence: evidence=[Evide, type is: <class 'sherlock.models.EvidenceCollection'>\n",
      "17:11:05 | INFO | [{'role': 'user', 'content': 'Evaluate this claim <claim>Wally is in the library</claim>. Use the tools to find opposing evidence and create an argument.'}, {'role': 'assistant', 'content': [TextBlock(citations=None, text='<thinking>\\nTo evaluate the claim \"Wally is in the library\" and find opposing evidence, I will:\\n\\n1. Analyze the key concepts in the claim:\\n   - Wally (a person)\\n   - Library (a location)\\n\\n2. Use the query_evidence tool to search for evidence that opposes Wally being in the library. Some potential search queries:\\n   - \"Wally is not in the library\"\\n   - \"Wally is somewhere else\"\\n   - \"Wally left the library\"\\n\\n3. Evaluate the returned evidence to see if it opposes the claim. Keep only the most relevant opposing evidence.\\n\\n4. If sufficient opposing evidence is found (2-3 pieces), use the create_argument tool to construct an argument against the claim, supported by the evidence.\\n\\n5. If insufficient opposing evidence is found after 3 searches, submit a weaker argument with limited or no evidence.\\n</thinking>', type='text'), ToolUseBlock(id='toolu_01MU6g9v5q63T1QWiuBseoaR', input={'query': 'Wally is not in the library'}, name='query_evidence', type='tool_use')]}, {'role': 'user', 'content': [{'type': 'tool_result', 'tool_use_id': 'toolu_01MU6g9v5q63T1QWiuBseoaR', 'content': '{\"evidence\":[{\"id\":\"ev_4\",\"text\":\"Wally\\'s phone GPS shows he was at the library coordinates\"},{\"id\":\"ev_8\",\"text\":\"Wally\\'s phone GPS shows he was at the library coordinates\"},{\"id\":\"ev_3\",\"text\":\"Library card records don\\'t show Wally checking out any books today\"}]}'}]}, {'role': 'assistant', 'content': [TextBlock(citations=None, text='<thinking>\\nThe evidence so far does not strongly oppose the claim. The GPS evidence actually supports Wally being at the library. The lack of library card records is weak opposing evidence, as Wally could be at the library without checking out books. \\nI will try another search for stronger opposing evidence.\\n</thinking>', type='text'), ToolUseBlock(id='toolu_01TQg3EQR5xSzfwtii8GBNfg', input={'query': 'Wally left the library'}, name='query_evidence', type='tool_use')]}, {'role': 'user', 'content': [{'type': 'tool_result', 'tool_use_id': 'toolu_01TQg3EQR5xSzfwtii8GBNfg', 'content': '{\"evidence\":[{\"id\":\"ev_4\",\"text\":\"Wally\\'s phone GPS shows he was at the library coordinates\"},{\"id\":\"ev_8\",\"text\":\"Wally\\'s phone GPS shows he was at the library coordinates\"},{\"id\":\"ev_3\",\"text\":\"Library card records don\\'t show Wally checking out any books today\"}]}'}]}]\n",
      "17:11:05 | INFO | Starting iteration 3\n",
      "17:11:10 | INFO | Tool_use stop reason. Response.content: [TextBlock(citations=None, text='<thinking>\\nThe new search did not return any additional opposing evidence. The existing evidence is not sufficient to strongly argue against Wally being at the library.\\nI will try one more search before submitting a weak argument.\\n</thinking>', type='text'), ToolUseBlock(id='toolu_015g8jnkCEJhWqCtWGhuBgcm', input={'query': 'Wally is somewhere else'}, name='query_evidence', type='tool_use')]\n",
      "17:11:10 | INFO | Querying evidence store with: Wally is somewhere else\n",
      "17:11:10 | INFO | result from tool query_evidence: evidence=[Evide, type is: <class 'sherlock.models.EvidenceCollection'>\n",
      "17:11:10 | INFO | [{'role': 'user', 'content': 'Evaluate this claim <claim>Wally is in the library</claim>. Use the tools to find opposing evidence and create an argument.'}, {'role': 'assistant', 'content': [TextBlock(citations=None, text='<thinking>\\nTo evaluate the claim \"Wally is in the library\" and find opposing evidence, I will:\\n\\n1. Analyze the key concepts in the claim:\\n   - Wally (a person)\\n   - Library (a location)\\n\\n2. Use the query_evidence tool to search for evidence that opposes Wally being in the library. Some potential search queries:\\n   - \"Wally is not in the library\"\\n   - \"Wally is somewhere else\"\\n   - \"Wally left the library\"\\n\\n3. Evaluate the returned evidence to see if it opposes the claim. Keep only the most relevant opposing evidence.\\n\\n4. If sufficient opposing evidence is found (2-3 pieces), use the create_argument tool to construct an argument against the claim, supported by the evidence.\\n\\n5. If insufficient opposing evidence is found after 3 searches, submit a weaker argument with limited or no evidence.\\n</thinking>', type='text'), ToolUseBlock(id='toolu_01MU6g9v5q63T1QWiuBseoaR', input={'query': 'Wally is not in the library'}, name='query_evidence', type='tool_use')]}, {'role': 'user', 'content': [{'type': 'tool_result', 'tool_use_id': 'toolu_01MU6g9v5q63T1QWiuBseoaR', 'content': '{\"evidence\":[{\"id\":\"ev_4\",\"text\":\"Wally\\'s phone GPS shows he was at the library coordinates\"},{\"id\":\"ev_8\",\"text\":\"Wally\\'s phone GPS shows he was at the library coordinates\"},{\"id\":\"ev_3\",\"text\":\"Library card records don\\'t show Wally checking out any books today\"}]}'}]}, {'role': 'assistant', 'content': [TextBlock(citations=None, text='<thinking>\\nThe evidence so far does not strongly oppose the claim. The GPS evidence actually supports Wally being at the library. The lack of library card records is weak opposing evidence, as Wally could be at the library without checking out books. \\nI will try another search for stronger opposing evidence.\\n</thinking>', type='text'), ToolUseBlock(id='toolu_01TQg3EQR5xSzfwtii8GBNfg', input={'query': 'Wally left the library'}, name='query_evidence', type='tool_use')]}, {'role': 'user', 'content': [{'type': 'tool_result', 'tool_use_id': 'toolu_01TQg3EQR5xSzfwtii8GBNfg', 'content': '{\"evidence\":[{\"id\":\"ev_4\",\"text\":\"Wally\\'s phone GPS shows he was at the library coordinates\"},{\"id\":\"ev_8\",\"text\":\"Wally\\'s phone GPS shows he was at the library coordinates\"},{\"id\":\"ev_3\",\"text\":\"Library card records don\\'t show Wally checking out any books today\"}]}'}]}, {'role': 'assistant', 'content': [TextBlock(citations=None, text='<thinking>\\nThe new search did not return any additional opposing evidence. The existing evidence is not sufficient to strongly argue against Wally being at the library.\\nI will try one more search before submitting a weak argument.\\n</thinking>', type='text'), ToolUseBlock(id='toolu_015g8jnkCEJhWqCtWGhuBgcm', input={'query': 'Wally is somewhere else'}, name='query_evidence', type='tool_use')]}, {'role': 'user', 'content': [{'type': 'tool_result', 'tool_use_id': 'toolu_015g8jnkCEJhWqCtWGhuBgcm', 'content': '{\"evidence\":[{\"id\":\"ev_4\",\"text\":\"Wally\\'s phone GPS shows he was at the library coordinates\"},{\"id\":\"ev_8\",\"text\":\"Wally\\'s phone GPS shows he was at the library coordinates\"},{\"id\":\"ev_5\",\"text\":\"Librarian Jane saw someone matching Wally\\'s description at 3pm\"}]}'}]}]\n",
      "17:11:10 | INFO | Starting iteration 4\n",
      "17:11:21 | INFO | Tool_use stop reason. Response.content: [TextBlock(citations=None, text='<thinking>\\nAfter 3 searches, I was unable to find strong evidence opposing the claim that Wally is in the library. The GPS and witness evidence actually supports Wally being there. The only weak opposing point is the lack of library card records.\\nSince I could not find sufficient opposing evidence, I will submit a weak argument with the limited evidence I have.\\n</thinking>', type='text'), ToolUseBlock(id='toolu_019Cvgm2JicFoYSFAr3msTc4', input={'text': 'There is limited evidence to suggest Wally may not currently be in the library. Library records do not show him checking out any books today. However, this alone does not prove he is not at the library, as he could be there without checking out books. Stronger evidence, like GPS data and an eyewitness, actually place Wally at the library. So while the lack of library activity leaves open the small possibility he left, the bulk of the evidence still supports Wally being in the library.', 'supports': False, 'evidence_collection': {'evidence': [{'text': \"Library card records don't show Wally checking out any books today\", 'id': 'ev_3'}]}}, name='create_argument', type='tool_use')]\n",
      "17:11:21 | INFO | Creating opposing argument: There is limited evidence to suggest Wally may not currently be in the library. Library records do not show him checking out any books today. However, this alone does not prove he is not at the library, as he could be there without checking out books. Stronger evidence, like GPS data and an eyewitness, actually place Wally at the library. So while the lack of library activity leaves open the small possibility he left, the bulk of the evidence still supports Wally being in the library.\n",
      "17:11:21 | INFO | With 1 pieces of evidence and 0 subclaims\n",
      "17:11:21 | INFO | result from tool create_argument: id='a4953eb5-0e, type is: <class 'sherlock.models.Argument'>\n",
      "17:11:21 | INFO | create_argument called, evaluation complete: id='a4953eb5-0edb-4b2c-98f3-d7c078753fec' text='There is limited evidence to suggest Wally may not currently be in the library. Library records do not show him checking out any books today. However, this alone does not prove he is not at the library, as he could be there without checking out books. Stronger evidence, like GPS data and an eyewitness, actually place Wally at the library. So while the lack of library activity leaves open the small possibility he left, the bulk of the evidence still supports Wally being in the library.' supports=False evidence_collection=EvidenceCollection(evidence=[Evidence(id='ev_3', text=\"Library card records don't show Wally checking out any books today\")]) subclaims=[]\n"
     ]
    },
    {
     "data": {
      "text/plain": [
       "Likelihood(supporting=2, opposing=1)"
      ]
     },
     "execution_count": 23,
     "metadata": {},
     "output_type": "execute_result"
    }
   ],
   "source": [
    "wally_claim = agent_pro.evaluate_claim(wally_claim)\n",
    "wally_claim = agent_con.evaluate_claim(wally_claim)\n",
    "# Evaluate it\n",
    "wally_claim.likelihood"
   ]
  },
  {
   "cell_type": "code",
   "execution_count": 61,
   "metadata": {},
   "outputs": [
    {
     "data": {
      "text/plain": [
       "{'text': 'Wally is in the library',\n",
       " 'id': 'wally-is-in-the-library',\n",
       " 'arguments': [{'id': 'd744b708-fa82-48cd-9522-87ffb71c22cb',\n",
       "   'text': 'Based on visual identification, Wally is at the library',\n",
       "   'supports': True,\n",
       "   'evidence_collection': {'evidence': []},\n",
       "   'subclaims': []}],\n",
       " 'likelihood': {'supporting': 0, 'opposing': 0}}"
      ]
     },
     "execution_count": 61,
     "metadata": {},
     "output_type": "execute_result"
    }
   ],
   "source": [
    "wally_claim.model_dump()"
   ]
  },
  {
   "cell_type": "code",
   "execution_count": null,
   "metadata": {},
   "outputs": [],
   "source": []
  },
  {
   "cell_type": "code",
   "execution_count": 59,
   "metadata": {},
   "outputs": [],
   "source": [
    "arg = export_argdown(wally_claim)"
   ]
  },
  {
   "cell_type": "code",
   "execution_count": 60,
   "metadata": {},
   "outputs": [],
   "source": [
    "with open('argdown.txt', 'w') as f:\n",
    "    f.write(arg)"
   ]
  },
  {
   "cell_type": "code",
   "execution_count": 62,
   "metadata": {},
   "outputs": [
    {
     "name": "stdout",
     "output_type": "stream",
     "text": [
      "Created claim: Wally is in the library (ID: wally-is-in-the-library)\n",
      "\n",
      "Relevant evidence for query 'Wally library location':\n",
      "1. Wally's phone GPS shows he was at the library coordinates (ID: ev_4)\n",
      "2. Wally's phone GPS shows he was at the library coordinates (ID: ev_8)\n",
      "3. Librarian Jane saw someone matching Wally's description at 3pm (ID: ev_5)\n"
     ]
    }
   ],
   "source": [
    "\n",
    "# 3. Create a claim\n",
    "wally_claim = Claim(text=\"Wally is in the library\")\n",
    "print(f\"Created claim: {wally_claim.text} (ID: {wally_claim.id})\")\n",
    "\n",
    "# 4. Query for relevant evidence\n",
    "query_results = store.query(\"Wally library location\", n_results=3)\n",
    "print(\"\\nRelevant evidence for query 'Wally library location':\")\n",
    "for i, result in enumerate(query_results):\n",
    "    print(f\"{i+1}. {result['text']} (ID: {result['id']})\")\n",
    "\n",
    "selected_evidence_id = query_results[1]['id']\n",
    "\n",
    "# Create an argument manually\n",
    "argument = Argument(\n",
    "    text=\"Based on visual identification, Wally is at the library\",\n",
    "    supports=True,  # This supports our claim\n",
    "    evidence_ids=[selected_evidence_id]\n",
    ")\n",
    "\n",
    "# Add to our claim\n",
    "wally_claim.arguments.append(argument)\n",
    "wally_claim._update_likelihood()\n",
    "\n"
   ]
  },
  {
   "cell_type": "code",
   "execution_count": 63,
   "metadata": {},
   "outputs": [
    {
     "data": {
      "text/plain": [
       "{'id': '1611f701-9993-4dfc-8ca1-b2832ca08a03',\n",
       " 'text': 'Based on visual identification, Wally is at the library',\n",
       " 'supports': True,\n",
       " 'evidence_collection': {'evidence': []},\n",
       " 'subclaims': []}"
      ]
     },
     "execution_count": 63,
     "metadata": {},
     "output_type": "execute_result"
    }
   ],
   "source": [
    "argument.model_dump()"
   ]
  },
  {
   "cell_type": "code",
   "execution_count": 5,
   "metadata": {},
   "outputs": [
    {
     "data": {
      "text/plain": [
       "{'ids': ['ev_1'],\n",
       " 'embeddings': None,\n",
       " 'documents': [\"Librarian Jane saw someone matching Wally's description at 3pm\"],\n",
       " 'uris': None,\n",
       " 'data': None,\n",
       " 'metadatas': [{'type': 'evidence'}],\n",
       " 'included': [<IncludeEnum.documents: 'documents'>,\n",
       "  <IncludeEnum.metadatas: 'metadatas'>]}"
      ]
     },
     "execution_count": 5,
     "metadata": {},
     "output_type": "execute_result"
    }
   ],
   "source": [
    "store.collection.get('ev_1')"
   ]
  },
  {
   "cell_type": "code",
   "execution_count": 39,
   "metadata": {},
   "outputs": [
    {
     "data": {
      "text/plain": [
       "{'text': 'Wally is in the library',\n",
       " 'id': 'wally-is-in-the-library',\n",
       " 'arguments': [{'id': '4f949f2b-38cd-4682-8838-9f44fd965e90',\n",
       "   'text': \"The evidence strongly supports that Wally was in the library. His phone's GPS coordinates place him at the library location. Additionally, a librarian reports seeing someone matching Wally's description in the library. Together, this evidence corroborates the claim that Wally was in fact in the library.\",\n",
       "   'supports': True,\n",
       "   'evidence_collection': {'evidence': [{'id': 'ev_4',\n",
       "      'text': \"Wally's phone GPS shows he was at the library coordinates\"},\n",
       "     {'id': 'ev_5',\n",
       "      'text': \"Librarian Jane saw someone matching Wally's description at 3pm\"}]},\n",
       "   'subclaims': []},\n",
       "  {'id': 'a4953eb5-0edb-4b2c-98f3-d7c078753fec',\n",
       "   'text': 'There is limited evidence to suggest Wally may not currently be in the library. Library records do not show him checking out any books today. However, this alone does not prove he is not at the library, as he could be there without checking out books. Stronger evidence, like GPS data and an eyewitness, actually place Wally at the library. So while the lack of library activity leaves open the small possibility he left, the bulk of the evidence still supports Wally being in the library.',\n",
       "   'supports': False,\n",
       "   'evidence_collection': {'evidence': [{'id': 'ev_3',\n",
       "      'text': \"Library card records don't show Wally checking out any books today\"}]},\n",
       "   'subclaims': []}],\n",
       " 'likelihood': {'supporting': 2, 'opposing': 1}}"
      ]
     },
     "execution_count": 39,
     "metadata": {},
     "output_type": "execute_result"
    }
   ],
   "source": [
    "wally_claim.model_dump()"
   ]
  },
  {
   "cell_type": "code",
   "execution_count": 64,
   "metadata": {},
   "outputs": [],
   "source": [
    "\n",
    "\n",
    "# Create sample data\n",
    "claim = Claim(text=\"Wally is in the library\")\n",
    "\n",
    "# Supporting evidence\n",
    "ev4 = Evidence(id=\"ev_4\", text=\"Wally's phone GPS shows he was at the library coordinates\")\n",
    "ev5 = Evidence(id=\"ev_5\", text=\"Librarian Jane saw someone matching Wally's description at 3pm\")\n",
    "supporting_evidence = EvidenceCollection(evidence=[ev4, ev5])\n",
    "\n",
    "# Opposing evidence\n",
    "ev3 = Evidence(id=\"ev_3\", text=\"Library card records don't show Wally checking out any books today\")\n",
    "opposing_evidence = EvidenceCollection(evidence=[ev3])\n",
    "\n",
    "# Supporting argument\n",
    "supporting_arg = Argument(\n",
    "    text=\"The evidence strongly supports that Wally was in the library...\",\n",
    "    supports=True,\n",
    "    evidence_collection=supporting_evidence\n",
    ")\n",
    "\n",
    "# Opposing argument\n",
    "opposing_arg = Argument(\n",
    "    text=\"There is limited evidence to suggest Wally may not currently be in the library...\",\n",
    "    supports=False,\n",
    "    evidence_collection=opposing_evidence\n",
    ")\n",
    "\n",
    "# Add arguments to claim\n",
    "claim.add_argument(supporting_arg)\n",
    "claim.add_argument(opposing_arg)\n",
    "\n",
    "# Export to Argdown\n",
    "argdown_text = export_argdown(claim)\n",
    "pyperclip.copy(argdown_text)"
   ]
  },
  {
   "cell_type": "code",
   "execution_count": null,
   "metadata": {},
   "outputs": [],
   "source": []
  }
 ],
 "metadata": {
  "kernelspec": {
   "display_name": ".venv (3.11.9)",
   "language": "python",
   "name": "python3"
  },
  "language_info": {
   "codemirror_mode": {
    "name": "ipython",
    "version": 3
   },
   "file_extension": ".py",
   "mimetype": "text/x-python",
   "name": "python",
   "nbconvert_exporter": "python",
   "pygments_lexer": "ipython3",
   "version": "3.11.9"
  }
 },
 "nbformat": 4,
 "nbformat_minor": 2
}
