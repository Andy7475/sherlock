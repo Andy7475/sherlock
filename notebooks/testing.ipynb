{
 "cells": [
  {
   "cell_type": "code",
   "execution_count": null,
   "metadata": {},
   "outputs": [],
   "source": [
    "import sys\n",
    "from pathlib import Path\n",
    "\n",
    "parent = str(Path().absolute().parent)\n",
    "if parent not in sys.path:\n",
    "    sys.path.insert(0,parent)\n",
    "from sherlock.evidence_store import EvidenceStore\n",
    "from sherlock.models import Claim, Evidence, Argument"
   ]
  },
  {
   "cell_type": "code",
   "execution_count": null,
   "metadata": {},
   "outputs": [],
   "source": [
    "store = EvidenceStore(\"wally_evidence\")\n",
    "\n",
    "# Add our evidence\n",
    "evidence_ids = []\n",
    "evidence_ids.append(store.add_evidence(\"Librarian Jane saw someone matching Wally's description at 3pm\"))\n",
    "evidence_ids.append(store.add_evidence(\"Security camera shows someone in red and white stripes in the park\"))\n",
    "evidence_ids.append(store.add_evidence(\"Library card records don't show Wally checking out any books today\"))\n",
    "evidence_ids.append(store.add_evidence(\"Wally's phone GPS shows he was at the library coordinates\"))\n"
   ]
  },
  {
   "cell_type": "code",
   "execution_count": 4,
   "metadata": {},
   "outputs": [
    {
     "name": "stdout",
     "output_type": "stream",
     "text": [
      "Created claim: Wally is in the library (ID: 5afcebd8-3d29-46f5-b6e5-e26a197d6b8e)\n",
      "\n",
      "Relevant evidence for query 'Wally library location':\n",
      "1. Wally's phone GPS shows he was at the library coordinates (ID: ev_4)\n",
      "2. Librarian Jane saw someone matching Wally's description at 3pm (ID: ev_1)\n",
      "3. Library card records don't show Wally checking out any books today (ID: ev_3)\n"
     ]
    }
   ],
   "source": [
    "\n",
    "# 3. Create a claim\n",
    "wally_claim = Claim(text=\"Wally is in the library\")\n",
    "print(f\"Created claim: {wally_claim.text} (ID: {wally_claim.id})\")\n",
    "\n",
    "# 4. Query for relevant evidence\n",
    "query_results = store.query(\"Wally library location\", n_results=3)\n",
    "print(\"\\nRelevant evidence for query 'Wally library location':\")\n",
    "for i, result in enumerate(query_results):\n",
    "    print(f\"{i+1}. {result['text']} (ID: {result['id']})\")\n"
   ]
  },
  {
   "cell_type": "code",
   "execution_count": 5,
   "metadata": {},
   "outputs": [],
   "source": [
    "selected_evidence_id = query_results[1]['id']\n",
    "\n",
    "# Create an argument manually\n",
    "argument = Argument(\n",
    "    text=\"Based on visual identification, Wally is at the library\",\n",
    "    supports=True,  # This supports our claim\n",
    "    evidence_ids=[selected_evidence_id]\n",
    ")\n",
    "\n",
    "# Add to our claim\n",
    "wally_claim.arguments.append(argument)\n",
    "wally_claim._update_likelihood()\n",
    "\n"
   ]
  },
  {
   "cell_type": "code",
   "execution_count": 6,
   "metadata": {},
   "outputs": [
    {
     "data": {
      "text/plain": [
       "{'id': '6d58021d-cc4a-42f4-9da8-6cb3fed1464c',\n",
       " 'text': 'Based on visual identification, Wally is at the library',\n",
       " 'supports': True,\n",
       " 'evidence_ids': ['ev_1'],\n",
       " 'subclaim_ids': []}"
      ]
     },
     "execution_count": 6,
     "metadata": {},
     "output_type": "execute_result"
    }
   ],
   "source": [
    "argument.model_dump()"
   ]
  },
  {
   "cell_type": "code",
   "execution_count": 7,
   "metadata": {},
   "outputs": [
    {
     "data": {
      "text/plain": [
       "{'ids': ['ev_1'],\n",
       " 'embeddings': None,\n",
       " 'documents': [\"Librarian Jane saw someone matching Wally's description at 3pm\"],\n",
       " 'uris': None,\n",
       " 'data': None,\n",
       " 'metadatas': [{'type': 'evidence'}],\n",
       " 'included': [<IncludeEnum.documents: 'documents'>,\n",
       "  <IncludeEnum.metadatas: 'metadatas'>]}"
      ]
     },
     "execution_count": 7,
     "metadata": {},
     "output_type": "execute_result"
    }
   ],
   "source": [
    "store.collection.get('ev_1')"
   ]
  },
  {
   "cell_type": "code",
   "execution_count": 8,
   "metadata": {},
   "outputs": [
    {
     "data": {
      "text/plain": [
       "Likelihood(supporting=1, opposing=0)"
      ]
     },
     "execution_count": 8,
     "metadata": {},
     "output_type": "execute_result"
    }
   ],
   "source": [
    "wally_claim.likelihood"
   ]
  },
  {
   "cell_type": "code",
   "execution_count": null,
   "metadata": {},
   "outputs": [],
   "source": []
  }
 ],
 "metadata": {
  "kernelspec": {
   "display_name": ".venv (3.11.9)",
   "language": "python",
   "name": "python3"
  },
  "language_info": {
   "codemirror_mode": {
    "name": "ipython",
    "version": 3
   },
   "file_extension": ".py",
   "mimetype": "text/x-python",
   "name": "python",
   "nbconvert_exporter": "python",
   "pygments_lexer": "ipython3",
   "version": "3.11.9"
  }
 },
 "nbformat": 4,
 "nbformat_minor": 2
}
